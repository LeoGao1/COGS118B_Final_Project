{
 "cells": [
  {
   "cell_type": "code",
   "execution_count": 18,
   "metadata": {},
   "outputs": [],
   "source": [
    "import numpy as np\n",
    "\n",
    "import sys\n",
    "sys.path.insert(0, '../src/')\n",
    "\n",
    "from matplotlib import pyplot as plt\n",
    "from sklearn.svm import SVC\n",
    "from sklearn.preprocessing import StandardScaler\n",
    "from sklearn import metrics\n",
    "from sklearn.metrics import plot_confusion_matrix\n",
    "from calculate_metric import model_metrics\n",
    "from data_vis import performance_vis"
   ]
  },
  {
   "cell_type": "code",
   "execution_count": 7,
   "metadata": {},
   "outputs": [],
   "source": [
    "def svm_model(x_train, y_train, x_test, y_test):\n",
    "    \n",
    "    clf = SVC()\n",
    "    clf.fit(x_train, y_train)\n",
    "    y_train_pred = clf.predict(x_train)\n",
    "\n",
    "    #get test score\n",
    "    y_test_pred = clf.predict(x_test)\n",
    "\n",
    "    return y_train_pred, y_test_pred"
   ]
  },
  {
   "cell_type": "code",
   "execution_count": 8,
   "metadata": {},
   "outputs": [
    {
     "name": "stdout",
     "output_type": "stream",
     "text": [
      "Experiment: 1\n",
      "The data are x_train,y_train,x_test,y_test\n",
      "{'classifier': 'Decision Tree', 'exp_num': 1, 'train_acc': 1.0, 'test_acc': 1.0, 'train_f1': 1.0, 'test_f1': 1.0}\n",
      "Experiment: 2\n",
      "The data are x_train,y_train,x_test,y_test\n",
      "{'classifier': 'Decision Tree', 'exp_num': 2, 'train_acc': 1.0, 'test_acc': 1.0, 'train_f1': 1.0, 'test_f1': 1.0}\n",
      "Experiment: 3\n",
      "The data are x_train,y_train,x_test,y_test\n",
      "{'classifier': 'Decision Tree', 'exp_num': 3, 'train_acc': 1.0, 'test_acc': 1.0, 'train_f1': 1.0, 'test_f1': 1.0}\n",
      "Experiment: 4\n",
      "The data are x_train,y_train,x_test,y_test\n",
      "{'classifier': 'Decision Tree', 'exp_num': 4, 'train_acc': 1.0, 'test_acc': 1.0, 'train_f1': 1.0, 'test_f1': 1.0}\n",
      "Experiment: 5\n",
      "The data are x_train,y_train,x_test,y_test\n",
      "{'classifier': 'Decision Tree', 'exp_num': 5, 'train_acc': 1.0, 'test_acc': 1.0, 'train_f1': 1.0, 'test_f1': 1.0}\n",
      "Experiment: 6\n",
      "The data are x_train,y_train,x_test,y_test\n",
      "{'classifier': 'Decision Tree', 'exp_num': 6, 'train_acc': 1.0, 'test_acc': 1.0, 'train_f1': 1.0, 'test_f1': 1.0}\n"
     ]
    }
   ],
   "source": [
    "temp = model_metrics('SVM', svm_model, True, 2)"
   ]
  },
  {
   "cell_type": "code",
   "execution_count": 11,
   "metadata": {},
   "outputs": [
    {
     "data": {
      "text/plain": [
       "<function matplotlib.pyplot.figure(num=None, figsize=None, dpi=None, facecolor=None, edgecolor=None, frameon=True, FigureClass=<class 'matplotlib.figure.Figure'>, clear=False, **kwargs)>"
      ]
     },
     "execution_count": 11,
     "metadata": {},
     "output_type": "execute_result"
    },
    {
     "data": {
      "image/png": "[encoded data removed]",
      "text/plain": [
       "<Figure size 960x480 with 2 Axes>"
      ]
     },
     "metadata": {},
     "output_type": "display_data"
    }
   ],
   "source": [
    "performance_vis(temp,'SVM')"
   ]
  },
  {
   "cell_type": "code",
   "execution_count": 25,
   "metadata": {},
   "outputs": [],
   "source": [
    "# define a tool to flatten x data into 2D in order to fit in sklearn\n",
    "def flatten_x(x_data):\n",
    "    sampnum, xax, yax, rgb = x_data.shape\n",
    "    flattened_x = x_data.reshape(sampnum, xax*yax*rgb)\n",
    "    return flattened_x"
   ]
  },
  {
   "cell_type": "code",
   "execution_count": 26,
   "metadata": {},
   "outputs": [],
   "source": [
    "def getdata(trailnum):\n",
    "    \n",
    "    # importing data according to input trail number\n",
    "    x_train_temp = np.load('../data/x_train_' + trailnum +'.npy')\n",
    "    y_train = np.load('../data/y_train_' + trailnum +'.npy')\n",
    "    x_test_temp = np.load('../data/x_test_' + trailnum +'.npy')\n",
    "    y_test = np.load('../data/y_test_' + trailnum +'.npy')\n",
    "    \n",
    "    # use flatten_x to turn x data into 2D array\n",
    "    x_train = flatten_x(x_train_temp)\n",
    "    x_test = flatten_x(x_test_temp)\n",
    "    \n",
    "    return x_train, y_train, x_test, y_test"
   ]
  },
  {
   "cell_type": "code",
   "execution_count": 27,
   "metadata": {},
   "outputs": [],
   "source": [
    "def svmwithsklearn(x_train,y_train,x_test,y_test):\n",
    "    \n",
    "    # implement knn using sklearn\n",
    "    clf = SVC()\n",
    "    clf.fit(x_train, y_train)\n",
    "    \n",
    "    # predict y values according to x test\n",
    "    y_predict = clf.predict(x_test)\n",
    "    \n",
    "    # calculate accuracy of this trail\n",
    "    acc = metrics.accuracy_score(y_predict, y_test)\n",
    "    \n",
    "    plot_confusion_matrix(clf, x_test, y_test)\n",
    "    plt.show()\n",
    "    \n",
    "    print(\"accuracy of this trial is \"+ str(acc))\n",
    "    \n",
    "    return acc"
   ]
  },
  {
   "cell_type": "code",
   "execution_count": 28,
   "metadata": {},
   "outputs": [
    {
     "data": {
      "image/png": "[encoded data removed]",
      "text/plain": [
       "<Figure size 432x288 with 2 Axes>"
      ]
     },
     "metadata": {
      "needs_background": "light"
     },
     "output_type": "display_data"
    },
    {
     "name": "stdout",
     "output_type": "stream",
     "text": [
      "accuracy of this trial is 1.0\n"
     ]
    },
    {
     "data": {
      "text/plain": [
       "1.0"
      ]
     },
     "execution_count": 28,
     "metadata": {},
     "output_type": "execute_result"
    }
   ],
   "source": [
    "x_train1,y_train1,x_test1,y_test1 = getdata('2')\n",
    "svmwithsklearn(x_train1,y_train1,x_test1,y_test1)"
   ]
  },
  {
   "cell_type": "code",
   "execution_count": null,
   "metadata": {},
   "outputs": [],
   "source": []
  }
 ],
 "metadata": {
  "kernelspec": {
   "display_name": "Python 3",
   "language": "python",
   "name": "python3"
  },
  "language_info": {
   "codemirror_mode": {
    "name": "ipython",
    "version": 3
   },
   "file_extension": ".py",
   "mimetype": "text/x-python",
   "name": "python",
   "nbconvert_exporter": "python",
   "pygments_lexer": "ipython3",
   "version": "3.9.1"
  }
 },
 "nbformat": 4,
 "nbformat_minor": 4
}
