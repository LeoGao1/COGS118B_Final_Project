{
 "cells": [
  {
   "cell_type": "code",
   "execution_count": 13,
   "id": "horizontal-toronto",
   "metadata": {},
   "outputs": [],
   "source": [
    "import pandas as pd\n",
    "import matplotlib.pyplot as plt\n",
    "from matplotlib.pyplot import figure\n",
    "import numpy as np\n",
    "\n",
    "\n",
    "from sklearn.metrics import accuracy_score\n",
    "from sklearn.metrics import f1_score\n",
    "\n",
    "from sklearn.tree import DecisionTreeClassifier\n",
    "from sklearn.ensemble import RandomForestClassifier\n",
    "\n",
    "import sys\n",
    "sys.path.insert(0, '../src/')\n",
    "\n",
    "#load the data for one experiment, parameter: experiment_number\n",
    "from read_data import read_exp \n",
    "\n",
    "#apply PCA, parameters: n_components,data\n",
    "from pca import PCA_calcV \n",
    "\n",
    "#plot the pictures, parameters: images, nb_rows, nb_cols\n",
    "from data_vis import plot_image\n",
    "\n",
    "#decision tree model, parameters: (x_train,y_train,x_test,y_test)\n",
    "#Note: the impute data should be 2D -- (picture_num*pixel values)\n",
    "#Use reshape to flatten the original data\n",
    "from decision_tree import build_DT\n",
    "\n"
   ]
  },
  {
   "cell_type": "code",
   "execution_count": 14,
   "id": "dated-saying",
   "metadata": {},
   "outputs": [],
   "source": [
    "# def build_DT (x_train,y_train,x_test,y_test):\n",
    "    \n",
    "#     clf = DecisionTreeClassifier(max_depth= 5)\n",
    "#     clf.fit(x_train, y_train)\n",
    "\n",
    "#     #get train score\n",
    "#     y_train_pred = clf.predict(x_train)\n",
    "    \n",
    "#     #get test score\n",
    "#     y_test_pred = clf.predict(x_test)\n",
    "    \n",
    "#     return y_train_pred, y_test_pred"
   ]
  },
  {
   "cell_type": "code",
   "execution_count": 16,
   "id": "potential-import",
   "metadata": {},
   "outputs": [
    {
     "name": "stdout",
     "output_type": "stream",
     "text": [
      "Experiment: 1\n",
      "The data are x_train,y_train,x_test,y_test\n"
     ]
    }
   ],
   "source": [
    "x_train,y_train,x_test,y_test = read_exp(1)\n",
    "\n",
    "x_train = np.reshape(x_train, (x_train.shape[0],100*100*3))\n",
    "x_test = np.reshape(x_test, (x_test.shape[0],100*100*3))\n",
    "temp = build_DT(x_train,y_train,x_test,y_test)"
   ]
  },
  {
   "cell_type": "code",
   "execution_count": 17,
   "id": "remarkable-sixth",
   "metadata": {},
   "outputs": [],
   "source": []
  },
  {
   "cell_type": "code",
   "execution_count": 12,
   "id": "vocal-appointment",
   "metadata": {},
   "outputs": [
    {
     "name": "stdout",
     "output_type": "stream",
     "text": [
      "Experiment: 1\n",
      "The data are x_train,y_train,x_test,y_test\n"
     ]
    },
    {
     "data": {
      "text/plain": [
       "(1200, 2)"
      ]
     },
     "execution_count": 12,
     "metadata": {},
     "output_type": "execute_result"
    }
   ],
   "source": [
    "\n",
    "\n",
    "\n",
    "    "
   ]
  },
  {
   "cell_type": "code",
   "execution_count": null,
   "id": "worldwide-halloween",
   "metadata": {},
   "outputs": [],
   "source": []
  }
 ],
 "metadata": {
  "kernelspec": {
   "display_name": "Python 3",
   "language": "python",
   "name": "python3"
  },
  "language_info": {
   "codemirror_mode": {
    "name": "ipython",
    "version": 3
   },
   "file_extension": ".py",
   "mimetype": "text/x-python",
   "name": "python",
   "nbconvert_exporter": "python",
   "pygments_lexer": "ipython3",
   "version": "3.9.1"
  }
 },
 "nbformat": 4,
 "nbformat_minor": 5
}
