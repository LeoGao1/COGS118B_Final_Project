{
 "cells": [
  {
   "cell_type": "code",
   "execution_count": 1,
   "id": "disturbed-appraisal",
   "metadata": {},
   "outputs": [],
   "source": [
    "import numpy as np \n",
    "import cv2\n",
    "import glob\n",
    "import os\n",
    "import matplotlib.pyplot as plt\n",
    "import string\n",
    "import pandas as pd\n",
    "\n",
    "dim = 100"
   ]
  },
  {
   "cell_type": "code",
   "execution_count": 2,
   "id": "useful-award",
   "metadata": {},
   "outputs": [],
   "source": [
    "def getFruits(fruits, data_type, print_n=False):\n",
    "    images = []\n",
    "    labels = []\n",
    "    val = ['Training', 'Test']\n",
    "    \n",
    "    path = \"../raw_data/\" + data_type + \"/\"\n",
    "    for i,f in enumerate(fruits):\n",
    "        p = path + f\n",
    "        j=0\n",
    "        for image_path in glob.glob(os.path.join(p, \"*.jpg\")):\n",
    "            image = cv2.imread(image_path, cv2.IMREAD_COLOR)\n",
    "            image = cv2.resize(image, (dim, dim))\n",
    "            image = cv2.cvtColor(image, cv2.COLOR_RGB2BGR)\n",
    "            images.append(image)\n",
    "            labels.append(i)\n",
    "            j+=1\n",
    "        if(print_n):\n",
    "            print(\"There are \" , j , \" \" , data_type.upper(), \" images of \" , fruits[i].upper())\n",
    "    images = np.array(images)\n",
    "    labels = np.array(labels)\n",
    "    return images, labels\n",
    "    \n"
   ]
  },
  {
   "cell_type": "code",
   "execution_count": 6,
   "id": "decreased-ultimate",
   "metadata": {},
   "outputs": [],
   "source": [
    "def pic_to_npy(fruits, exp_num):\n",
    "    \n",
    "    x_train, y_train =  getFruits(fruits, 'Training', print_n=True)\n",
    "    x_test, y_test =  getFruits(fruits, 'Test', print_n=True)\n",
    "    \n",
    "    name1 = '../data/x_train_'+str(exp_num)+'.npy'\n",
    "    name2 = '../data/y_train_'+str(exp_num)+'.npy'\n",
    "    name3 = '../data/x_test_'+str(exp_num)+'.npy'\n",
    "    name4 = '../data/y_test_'+str(exp_num)+'.npy'\n",
    "    \n",
    "    \n",
    "    np.save(name1,x_train)\n",
    "    np.save(name2,y_train)\n",
    "    np.save(name3,x_test)\n",
    "    np.save(name4,y_test)\n",
    "    "
   ]
  },
  {
   "cell_type": "code",
   "execution_count": 7,
   "id": "polar-planning",
   "metadata": {},
   "outputs": [],
   "source": [
    "\n",
    "\n",
    "# files = glob.glob('../data/')\n",
    "# for f in files:\n",
    "#     os.remove(f)\n"
   ]
  },
  {
   "cell_type": "code",
   "execution_count": 13,
   "id": "surface-yukon",
   "metadata": {},
   "outputs": [
    {
     "name": "stdout",
     "output_type": "stream",
     "text": [
      "There are  462   TRAINING  images of  BLUEBERRY\n",
      "There are  738   TRAINING  images of  CHERRY 2\n",
      "There are  154   TEST  images of  BLUEBERRY\n",
      "There are  246   TEST  images of  CHERRY 2\n",
      "There are  492   TRAINING  images of  PEACH\n",
      "There are  492   TRAINING  images of  APPLE RED 1\n",
      "There are  164   TEST  images of  PEACH\n",
      "There are  164   TEST  images of  APPLE RED 1\n",
      "There are  490   TRAINING  images of  BANANA\n",
      "There are  492   TRAINING  images of  APPLE RED 1\n",
      "There are  166   TEST  images of  BANANA\n",
      "There are  164   TEST  images of  APPLE RED 1\n",
      "There are  490   TRAINING  images of  BANANA\n",
      "There are  427   TRAINING  images of  AVOCADO\n",
      "There are  166   TEST  images of  BANANA\n",
      "There are  143   TEST  images of  AVOCADO\n",
      "There are  480   TRAINING  images of  APPLE GOLDEN 1\n",
      "There are  492   TRAINING  images of  APPLE RED 1\n",
      "There are  492   TRAINING  images of  APPLE RED YELLOW 1\n",
      "There are  160   TEST  images of  APPLE GOLDEN 1\n",
      "There are  164   TEST  images of  APPLE RED 1\n",
      "There are  164   TEST  images of  APPLE RED YELLOW 1\n",
      "There are  444   TRAINING  images of  PEPPER GREEN\n",
      "There are  666   TRAINING  images of  PEPPER RED\n",
      "There are  148   TEST  images of  PEPPER GREEN\n",
      "There are  222   TEST  images of  PEPPER RED\n"
     ]
    }
   ],
   "source": [
    "#Experiments\n",
    "\n",
    "#Similar fruits\n",
    "fruits = ['Blueberry' , 'Cherry 2']\n",
    "pic_to_npy(fruits, 1)\n",
    "\n",
    "fruits = ['Peach' , 'Apple Red 1']\n",
    "pic_to_npy(fruits, 2)\n",
    "\n",
    "#different fruits\n",
    "fruits = ['Banana' , 'Apple Red 1']\n",
    "pic_to_npy(fruits, 3)\n",
    "\n",
    "fruits = ['Banana' , 'Avocado']\n",
    "pic_to_npy(fruits, 4)\n",
    "\n",
    "#same kind, different color\n",
    "fruits = ['Apple Golden 1' , 'Apple Red 1', 'Apple Red Yellow 1']\n",
    "pic_to_npy(fruits, 5)\n",
    "\n",
    "fruits = ['Pepper Green' , 'Pepper Red']\n",
    "pic_to_npy(fruits, 6)\n",
    "\n"
   ]
  },
  {
   "cell_type": "code",
   "execution_count": 5,
   "id": "representative-mounting",
   "metadata": {},
   "outputs": [],
   "source": [
    "# temp = np.load('../data/x_train_1.npy')\n",
    "# temp.shape"
   ]
  },
  {
   "cell_type": "code",
   "execution_count": null,
   "id": "mysterious-twins",
   "metadata": {},
   "outputs": [],
   "source": [
    "\n",
    "\n"
   ]
  },
  {
   "cell_type": "code",
   "execution_count": null,
   "id": "chronic-reality",
   "metadata": {},
   "outputs": [],
   "source": []
  }
 ],
 "metadata": {
  "kernelspec": {
   "display_name": "Python 3",
   "language": "python",
   "name": "python3"
  },
  "language_info": {
   "codemirror_mode": {
    "name": "ipython",
    "version": 3
   },
   "file_extension": ".py",
   "mimetype": "text/x-python",
   "name": "python",
   "nbconvert_exporter": "python",
   "pygments_lexer": "ipython3",
   "version": "3.9.1"
  }
 },
 "nbformat": 4,
 "nbformat_minor": 5
}
