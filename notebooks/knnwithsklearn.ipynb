{
 "cells": [
  {
   "cell_type": "code",
   "execution_count": 62,
   "metadata": {},
   "outputs": [],
   "source": [
    "import numpy as np\n",
    "from matplotlib import pyplot as plt\n",
    "from sklearn.neighbors import KNeighborsClassifier\n",
    "from sklearn import metrics\n",
    "from sklearn.metrics import confusion_matrix\n",
    "from mlxtend.plotting import plot_decision_regions\n",
    "from sklearn.preprocessing import StandardScaler"
   ]
  },
  {
   "cell_type": "code",
   "execution_count": 43,
   "metadata": {},
   "outputs": [],
   "source": [
    "standard_scaler = StandardScaler()\n",
    "\n",
    "# define a tool to flatten and standardize x data into 2D in order to fit in sklearn\n",
    "def flat_and_standard_x(x_data):\n",
    "    sampnum, xax, yax, rgb = x_data.shape\n",
    "    flattened_x = x_data.reshape(sampnum, xax*yax*rgb)\n",
    "    f_s_x = standard_scaler.fit_transform(flattened_x)\n",
    "    return f_s_x"
   ]
  },
  {
   "cell_type": "code",
   "execution_count": 44,
   "metadata": {},
   "outputs": [],
   "source": [
    "# a tool to get train and test data for x and y\n",
    "def getdata(trailnum):\n",
    "    \n",
    "    # importing data according to input trail number\n",
    "    x_train_temp = np.load('../data/x_train_' + trailnum +'.npy')\n",
    "    y_train = np.load('../data/y_train_' + trailnum +'.npy')\n",
    "    x_test_temp = np.load('../data/x_test_' + trailnum +'.npy')\n",
    "    y_test = np.load('../data/y_test_' + trailnum +'.npy')\n",
    "    \n",
    "    # use flatten_x to turn x data into 2D array\n",
    "    x_train = flat_and_standard_x(x_train_temp)\n",
    "    x_test = flat_and_standard_x(x_test_temp)\n",
    "    \n",
    "    return x_train, y_train, x_test, y_test"
   ]
  },
  {
   "cell_type": "code",
   "execution_count": 32,
   "metadata": {},
   "outputs": [],
   "source": [
    "# run knn with sklearn with input data\n",
    "def knnwithsklearn(x_train,y_train,x_test,y_test):\n",
    "    \n",
    "    # implement knn using sklearn\n",
    "    knn = KNeighborsClassifier(n_neighbors=2)\n",
    "    knn.fit(x_train, y_train)\n",
    "    \n",
    "    # predict y values according to x test\n",
    "    y_predict = knn.predict(x_test)\n",
    "    \n",
    "    # calculate accuracy of this trail\n",
    "    acc = metrics.accuracy_score(y_predict, y_test)\n",
    "    \n",
    "    print(\"accuracy of this trail is \"+ str(acc))\n",
    "    \n",
    "    return acc"
   ]
  },
  {
   "cell_type": "code",
   "execution_count": 55,
   "metadata": {},
   "outputs": [
    {
     "name": "stdout",
     "output_type": "stream",
     "text": [
      "accuracy of this trail is 1.0\n"
     ]
    },
    {
     "data": {
      "text/plain": [
       "1.0"
      ]
     },
     "execution_count": 55,
     "metadata": {},
     "output_type": "execute_result"
    }
   ],
   "source": [
    "x_train1,y_train1,x_test1,y_test1 = getdata('1')\n",
    "knnwithsklearn(x_train1,y_train1,x_test1,y_test1)"
   ]
  },
  {
   "cell_type": "code",
   "execution_count": 56,
   "metadata": {
    "scrolled": false
   },
   "outputs": [
    {
     "name": "stdout",
     "output_type": "stream",
     "text": [
      "accuracy of this trail is 0.9176829268292683\n"
     ]
    },
    {
     "data": {
      "text/plain": [
       "0.9176829268292683"
      ]
     },
     "execution_count": 56,
     "metadata": {},
     "output_type": "execute_result"
    }
   ],
   "source": [
    "x_train1,y_train1,x_test1,y_test1 = getdata('2')\n",
    "knnwithsklearn(x_train1,y_train1,x_test1,y_test1)"
   ]
  },
  {
   "cell_type": "code",
   "execution_count": 48,
   "metadata": {
    "scrolled": true
   },
   "outputs": [
    {
     "name": "stdout",
     "output_type": "stream",
     "text": [
      "accuracy of this trail is 1.0\n"
     ]
    },
    {
     "data": {
      "text/plain": [
       "1.0"
      ]
     },
     "execution_count": 48,
     "metadata": {},
     "output_type": "execute_result"
    }
   ],
   "source": [
    "x_train1,y_train1,x_test1,y_test1 = getdata('3')\n",
    "knnwithsklearn(x_train1,y_train1,x_test1,y_test1)"
   ]
  },
  {
   "cell_type": "code",
   "execution_count": 46,
   "metadata": {},
   "outputs": [
    {
     "name": "stdout",
     "output_type": "stream",
     "text": [
      "accuracy of this trail is 1.0\n"
     ]
    },
    {
     "data": {
      "text/plain": [
       "1.0"
      ]
     },
     "execution_count": 46,
     "metadata": {},
     "output_type": "execute_result"
    }
   ],
   "source": [
    "x_train1,y_train1,x_test1,y_test1 = getdata('4')\n",
    "knnwithsklearn(x_train1,y_train1,x_test1,y_test1)"
   ]
  },
  {
   "cell_type": "code",
   "execution_count": 47,
   "metadata": {},
   "outputs": [
    {
     "name": "stdout",
     "output_type": "stream",
     "text": [
      "accuracy of this trail is 0.9979508196721312\n"
     ]
    },
    {
     "data": {
      "text/plain": [
       "0.9979508196721312"
      ]
     },
     "execution_count": 47,
     "metadata": {},
     "output_type": "execute_result"
    }
   ],
   "source": [
    "x_train1,y_train1,x_test1,y_test1 = getdata('5')\n",
    "knnwithsklearn(x_train1,y_train1,x_test1,y_test1)"
   ]
  },
  {
   "cell_type": "code",
   "execution_count": null,
   "metadata": {},
   "outputs": [],
   "source": []
  },
  {
   "cell_type": "code",
   "execution_count": null,
   "metadata": {},
   "outputs": [],
   "source": []
  },
  {
   "cell_type": "code",
   "execution_count": null,
   "metadata": {},
   "outputs": [],
   "source": []
  }
 ],
 "metadata": {
  "kernelspec": {
   "display_name": "Python 3",
   "language": "python",
   "name": "python3"
  },
  "language_info": {
   "codemirror_mode": {
    "name": "ipython",
    "version": 3
   },
   "file_extension": ".py",
   "mimetype": "text/x-python",
   "name": "python",
   "nbconvert_exporter": "python",
   "pygments_lexer": "ipython3",
   "version": "3.7.3"
  }
 },
 "nbformat": 4,
 "nbformat_minor": 2
}
