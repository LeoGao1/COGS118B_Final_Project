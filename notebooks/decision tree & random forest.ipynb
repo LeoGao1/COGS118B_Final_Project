{
 "cells": [
  {
   "cell_type": "code",
   "execution_count": 10,
   "id": "horizontal-toronto",
   "metadata": {},
   "outputs": [],
   "source": [
    "import pandas as pd\n",
    "import matplotlib.pyplot as plt\n",
    "from matplotlib.pyplot import figure\n",
    "import numpy as np\n",
    "\n",
    "\n",
    "from sklearn.metrics import accuracy_score\n",
    "from sklearn.metrics import f1_score\n",
    "\n",
    "from sklearn.tree import DecisionTreeClassifier\n",
    "from sklearn.ensemble import RandomForestClassifier\n",
    "\n",
    "import sys\n",
    "sys.path.insert(0, '../src/')\n",
    "from read_data import read_exp\n",
    "\n"
   ]
  },
  {
   "cell_type": "code",
   "execution_count": null,
   "id": "gentle-petroleum",
   "metadata": {},
   "outputs": [],
   "source": []
  },
  {
   "cell_type": "code",
   "execution_count": 13,
   "id": "dated-saying",
   "metadata": {},
   "outputs": [],
   "source": [
    "def build_DT (x_train,y_train,x_test,y_test, max_depth_list):\n",
    "    print(\"Start Decision Tree\")\n",
    "    \n",
    "    result = pd.DataFrame(columns =['classifier','parameter','train_acc','test_acc','train_f1','test_f1'])\n",
    "    \n",
    "    \n",
    "    x_train = np.reshape(x_train, (x_train.shape[0],100*100*3))\n",
    "    x_test = np.reshape(x_test, (x_test.shape[0],100*100*3))\n",
    "    \n",
    "    for i in max_depth_list:\n",
    "        clf = DecisionTreeClassifier(max_depth= i)\n",
    "        clf.fit(x_train, y_train)\n",
    "\n",
    "         #get train score\n",
    "        y_train_pred = clf.predict(x_train)\n",
    "        train_sc = accuracy_score(y_train, y_train_pred)\n",
    "        train_f1 = f1_score(y_train, y_train_pred,average='micro')\n",
    "\n",
    "        #get test score\n",
    "        y_test_pred = clf.predict(x_test)\n",
    "        test_sc = accuracy_score(y_test, y_test_pred)\n",
    "        test_f1 = f1_score(y_test, y_test_pred,average='micro')\n",
    "\n",
    "        temp = {'classifier':'Decision Tree',\n",
    "                'parameter': i,\n",
    "                'train_acc':train_sc,\n",
    "                'test_acc':test_sc,\n",
    "                'train_f1':train_f1,\n",
    "                'test_f1':test_f1}\n",
    "        print(temp)\n",
    "        result = result.append(temp,ignore_index=True)\n",
    "        \n",
    "    return result"
   ]
  },
  {
   "cell_type": "code",
   "execution_count": 14,
   "id": "vocal-appointment",
   "metadata": {},
   "outputs": [
    {
     "name": "stdout",
     "output_type": "stream",
     "text": [
      "Experiment: 1\n",
      "The data are x_train,y_train,x_test,y_test\n",
      "Start Decision Tree\n",
      "{'classifier': 'Decision Tree', 'parameter': 5, 'train_acc': 1.0, 'test_acc': 1.0, 'train_f1': 1.0, 'test_f1': 1.0}\n",
      "{'classifier': 'Decision Tree', 'parameter': 15, 'train_acc': 1.0, 'test_acc': 1.0, 'train_f1': 1.0, 'test_f1': 1.0}\n",
      "{'classifier': 'Decision Tree', 'parameter': 25, 'train_acc': 1.0, 'test_acc': 1.0, 'train_f1': 1.0, 'test_f1': 1.0}\n",
      "{'classifier': 'Decision Tree', 'parameter': 35, 'train_acc': 1.0, 'test_acc': 1.0, 'train_f1': 1.0, 'test_f1': 1.0}\n",
      "{'classifier': 'Decision Tree', 'parameter': 45, 'train_acc': 1.0, 'test_acc': 1.0, 'train_f1': 1.0, 'test_f1': 1.0}\n",
      "{'classifier': 'Decision Tree', 'parameter': 55, 'train_acc': 1.0, 'test_acc': 1.0, 'train_f1': 1.0, 'test_f1': 1.0}\n",
      "{'classifier': 'Decision Tree', 'parameter': 65, 'train_acc': 1.0, 'test_acc': 1.0, 'train_f1': 1.0, 'test_f1': 1.0}\n",
      "{'classifier': 'Decision Tree', 'parameter': 75, 'train_acc': 1.0, 'test_acc': 1.0, 'train_f1': 1.0, 'test_f1': 1.0}\n",
      "{'classifier': 'Decision Tree', 'parameter': 85, 'train_acc': 1.0, 'test_acc': 1.0, 'train_f1': 1.0, 'test_f1': 1.0}\n",
      "{'classifier': 'Decision Tree', 'parameter': 95, 'train_acc': 1.0, 'test_acc': 1.0, 'train_f1': 1.0, 'test_f1': 1.0}\n"
     ]
    }
   ],
   "source": [
    "x_train,y_train,x_test,y_test = read_exp(1)\n",
    "dt_param = list(range(5,100,10))\n",
    "\n",
    "temp = build_DT(x_train,y_train,x_test,y_test,dt_param)"
   ]
  },
  {
   "cell_type": "code",
   "execution_count": null,
   "id": "worldwide-halloween",
   "metadata": {},
   "outputs": [],
   "source": []
  }
 ],
 "metadata": {
  "kernelspec": {
   "display_name": "Python 3",
   "language": "python",
   "name": "python3"
  },
  "language_info": {
   "codemirror_mode": {
    "name": "ipython",
    "version": 3
   },
   "file_extension": ".py",
   "mimetype": "text/x-python",
   "name": "python",
   "nbconvert_exporter": "python",
   "pygments_lexer": "ipython3",
   "version": "3.9.1"
  }
 },
 "nbformat": 4,
 "nbformat_minor": 5
}
