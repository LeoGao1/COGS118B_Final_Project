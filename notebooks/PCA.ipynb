{
 "cells": [
  {
   "cell_type": "code",
   "execution_count": 1,
   "id": "typical-diagram",
   "metadata": {},
   "outputs": [],
   "source": [
    "import numpy as np \n",
    "import scipy"
   ]
  },
  {
   "cell_type": "code",
   "execution_count": 2,
   "id": "motivated-toner",
   "metadata": {},
   "outputs": [],
   "source": [
    "# calculate n_componenets dimension direction vectors\n",
    "def PCA_calcV(n_components,data):\n",
    "    #variance calculated\n",
    "    covMat = np.cov(data.T)\n",
    "    \n",
    "    #eigen decomposition\n",
    "    eigvals, V = scipy.sparse.linalg.eigsh(covMat)\n",
    "    \n",
    "    #sort the value from largest to smallest, store the index\n",
    "    sortIndex = np.argsort(eigvals)\n",
    "    sortIndex = np.flip(sortIndex)\n",
    "    \n",
    "    #sort the eigenvectors with the indices\n",
    "    sortedVectors = np.zeros((len(V), n_components))\n",
    "    \n",
    "    for i in range(n_components):\n",
    "        sortedVectors[:,i] = V[:,sortIndex[i]]\n",
    "    return sortedVectors"
   ]
  },
  {
   "cell_type": "code",
   "execution_count": null,
   "id": "printable-there",
   "metadata": {},
   "outputs": [],
   "source": [
    "# transform the data into n_componenets dimension\n",
    "def PCA_transform(sortedVectors,data):\n",
    "    c = np.matmul(sortedVectors.T,data.T) \n",
    "    return c.T"
   ]
  }
 ],
 "metadata": {
  "kernelspec": {
   "display_name": "Python 3",
   "language": "python",
   "name": "python3"
  },
  "language_info": {
   "codemirror_mode": {
    "name": "ipython",
    "version": 3
   },
   "file_extension": ".py",
   "mimetype": "text/x-python",
   "name": "python",
   "nbconvert_exporter": "python",
   "pygments_lexer": "ipython3",
   "version": "3.7.6"
  }
 },
 "nbformat": 4,
 "nbformat_minor": 5
}
